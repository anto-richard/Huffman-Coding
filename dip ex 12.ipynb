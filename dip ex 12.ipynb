{
 "cells": [
  {
   "cell_type": "code",
   "execution_count": 1,
   "id": "47bb5b28-5a34-4e64-aae7-ca64664431a7",
   "metadata": {},
   "outputs": [],
   "source": [
    "string = 'Anto Richard 212221240005'"
   ]
  },
  {
   "cell_type": "code",
   "execution_count": 2,
   "id": "15729de6-5832-4141-b481-09606ac0fce6",
   "metadata": {},
   "outputs": [],
   "source": [
    "# Creating tree nodes:\n",
    "\n",
    "class NodeTree(object):\n",
    "    \n",
    "    def __init__(self, left=None, right=None): \n",
    "        self.left = left\n",
    "        self.right=right\n",
    "        \n",
    "    def children(self):\n",
    "        return (self.left,self.right)"
   ]
  },
  {
   "cell_type": "code",
   "execution_count": 3,
   "id": "a8d771e5-6932-44a2-87ac-42ccccaff05a",
   "metadata": {},
   "outputs": [],
   "source": [
    "# Main function implementing huffman coding:\n",
    "\n",
    "def huffman_code_tree (node, left=True, binString=''):\n",
    "    if type(node) is str:\n",
    "        return {node: binString}\n",
    "    (l, r) = node.children()\n",
    "    d = dict()\n",
    "    d.update(huffman_code_tree (l, True, binString + '0'))\n",
    "    d.update(huffman_code_tree (r, False, binString + '1'))\n",
    "    return d"
   ]
  },
  {
   "cell_type": "code",
   "execution_count": 4,
   "id": "e051da01-8d51-4676-8f60-9c4b31a2cc12",
   "metadata": {},
   "outputs": [],
   "source": [
    "# Calculating frequency:\n",
    "\n",
    "freq = {}\n",
    "for c in string:\n",
    "    if c in freq:\n",
    "        freq[c] += 1\n",
    "    else:\n",
    "        freq[c] = 1\n",
    "        \n",
    "freq = sorted(freq.items(), key=lambda x: x[1], reverse=True)\n",
    "\n",
    "nodes = freq"
   ]
  },
  {
   "cell_type": "code",
   "execution_count": 5,
   "id": "ba7882fe-d763-4ba9-8d8c-d0deea70fcf0",
   "metadata": {},
   "outputs": [],
   "source": [
    "# Calculate frequency of occurrence:\n",
    "\n",
    "while len(nodes)>1:\n",
    "    (key1,c1)=nodes[-1]\n",
    "    (key2,c2)=nodes[-2]\n",
    "    nodes = nodes[:-2]\n",
    "    node = NodeTree (key1, key2)\n",
    "    nodes.append((node,c1 + c2))\n",
    "    \n",
    "    nodes = sorted (nodes, key=lambda x: x[1], reverse=True)"
   ]
  },
  {
   "cell_type": "code",
   "execution_count": 6,
   "id": "7bb503df-11a6-43b0-8af5-0bf5a708c148",
   "metadata": {},
   "outputs": [
    {
     "name": "stdout",
     "output_type": "stream",
     "text": [
      "^*^*^*^*^*^*^*^*^*^*^*^\n",
      " Char | Huffman code \n",
      "^*^*^*^*^*^*^*^*^*^*^*^\n",
      "'2'  |          01\n",
      "'0'  |         100\n",
      "' '  |         000\n",
      "'1'  |        1011\n",
      "'A'  |        0010\n",
      "'n'  |       00111\n",
      "'t'  |       00110\n",
      "'o'  |       11101\n",
      "'R'  |       11100\n",
      "'i'  |       11111\n",
      "'c'  |       11110\n",
      "'h'  |       11001\n",
      "'a'  |       11000\n",
      "'r'  |       11011\n",
      "'d'  |       11010\n",
      "'4'  |       10101\n",
      "'5'  |       10100\n"
     ]
    }
   ],
   "source": [
    "# Print the characters and its huffman_code:\n",
    "\n",
    "huffmanCode = huffman_code_tree(nodes[0][0])\n",
    "print('^*^*^*^*^*^*^*^*^*^*^*^')\n",
    "print(' Char | Huffman code ') \n",
    "print('^*^*^*^*^*^*^*^*^*^*^*^')\n",
    "for (char, frequency) in freq:\n",
    "    print('%-4r |%12s' %(char,huffmanCode[char]))"
   ]
  }
 ],
 "metadata": {
  "kernelspec": {
   "display_name": "Python 3 (ipykernel)",
   "language": "python",
   "name": "python3"
  },
  "language_info": {
   "codemirror_mode": {
    "name": "ipython",
    "version": 3
   },
   "file_extension": ".py",
   "mimetype": "text/x-python",
   "name": "python",
   "nbconvert_exporter": "python",
   "pygments_lexer": "ipython3",
   "version": "3.11.2"
  }
 },
 "nbformat": 4,
 "nbformat_minor": 5
}
